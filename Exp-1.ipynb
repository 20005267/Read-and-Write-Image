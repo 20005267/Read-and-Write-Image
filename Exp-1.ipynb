{
 "cells": [
  {
   "cell_type": "code",
   "execution_count": 1,
   "id": "fb4c1d16",
   "metadata": {},
   "outputs": [],
   "source": [
    "import cv2"
   ]
  },
  {
   "cell_type": "code",
   "execution_count": 2,
   "id": "afc3bb88",
   "metadata": {},
   "outputs": [],
   "source": [
    "import random"
   ]
  },
  {
   "cell_type": "code",
   "execution_count": 3,
   "id": "0b54a7ac",
   "metadata": {},
   "outputs": [],
   "source": [
    "color_image = cv2.imread(\"pikachu.jpg\",1)"
   ]
  },
  {
   "cell_type": "code",
   "execution_count": 4,
   "id": "ebe96c18",
   "metadata": {},
   "outputs": [
    {
     "data": {
      "text/plain": [
       "-1"
      ]
     },
     "execution_count": 4,
     "metadata": {},
     "output_type": "execute_result"
    }
   ],
   "source": [
    "cv2.imshow('212220230024',color_image)\n",
    "cv2.waitKey(0)"
   ]
  },
  {
   "cell_type": "code",
   "execution_count": 5,
   "id": "d27deae0",
   "metadata": {},
   "outputs": [],
   "source": [
    "gray_image = cv2.imread(\"pikachu.jpg\",0)"
   ]
  },
  {
   "cell_type": "code",
   "execution_count": 6,
   "id": "38ec7580",
   "metadata": {},
   "outputs": [
    {
     "data": {
      "text/plain": [
       "True"
      ]
     },
     "execution_count": 6,
     "metadata": {},
     "output_type": "execute_result"
    }
   ],
   "source": [
    "cv2.imwrite(\"image1.jpg\",gray_image)"
   ]
  },
  {
   "cell_type": "code",
   "execution_count": 7,
   "id": "cb201601",
   "metadata": {},
   "outputs": [
    {
     "data": {
      "text/plain": [
       "-1"
      ]
     },
     "execution_count": 7,
     "metadata": {},
     "output_type": "execute_result"
    }
   ],
   "source": [
    "cv2.imshow('212220230024',gray_image)\n",
    "cv2.waitKey(0)"
   ]
  },
  {
   "cell_type": "code",
   "execution_count": 8,
   "id": "4d5a6a9e",
   "metadata": {},
   "outputs": [
    {
     "data": {
      "text/plain": [
       "(450, 600, 3)"
      ]
     },
     "execution_count": 8,
     "metadata": {},
     "output_type": "execute_result"
    }
   ],
   "source": [
    "color_image.shape"
   ]
  },
  {
   "cell_type": "code",
   "execution_count": 9,
   "id": "bdc6bed5",
   "metadata": {},
   "outputs": [
    {
     "data": {
      "text/plain": [
       "(450, 600)"
      ]
     },
     "execution_count": 9,
     "metadata": {},
     "output_type": "execute_result"
    }
   ],
   "source": [
    "gray_image.shape"
   ]
  },
  {
   "cell_type": "code",
   "execution_count": 10,
   "id": "7ac81007",
   "metadata": {},
   "outputs": [],
   "source": [
    "for i in range (100):\n",
    "    for j in range(color_image.shape[1]):\n",
    "        color_image[i][j] = [random.randint(0,255),random.randint(0,255),random.randint(0,255)]"
   ]
  },
  {
   "cell_type": "code",
   "execution_count": 11,
   "id": "a1b897f0",
   "metadata": {},
   "outputs": [
    {
     "data": {
      "text/plain": [
       "-1"
      ]
     },
     "execution_count": 11,
     "metadata": {},
     "output_type": "execute_result"
    }
   ],
   "source": [
    "cv2.imshow('212220230024',color_image)\n",
    "cv2.waitKey(0)"
   ]
  },
  {
   "cell_type": "code",
   "execution_count": 12,
   "id": "92fba55f",
   "metadata": {},
   "outputs": [
    {
     "data": {
      "text/plain": [
       "-1"
      ]
     },
     "execution_count": 12,
     "metadata": {},
     "output_type": "execute_result"
    }
   ],
   "source": [
    "tag = color_image[200:320,200:320]\n",
    "color_image[280:400,280:400] = tag\n",
    "cv2.imshow('212220230024',color_image)\n",
    "cv2.waitKey(0)"
   ]
  },
  {
   "cell_type": "code",
   "execution_count": null,
   "id": "2c4550b4",
   "metadata": {},
   "outputs": [],
   "source": []
  }
 ],
 "metadata": {
  "kernelspec": {
   "display_name": "Python 3",
   "language": "python",
   "name": "python3"
  },
  "language_info": {
   "codemirror_mode": {
    "name": "ipython",
    "version": 3
   },
   "file_extension": ".py",
   "mimetype": "text/x-python",
   "name": "python",
   "nbconvert_exporter": "python",
   "pygments_lexer": "ipython3",
   "version": "3.8.8"
  }
 },
 "nbformat": 4,
 "nbformat_minor": 5
}
